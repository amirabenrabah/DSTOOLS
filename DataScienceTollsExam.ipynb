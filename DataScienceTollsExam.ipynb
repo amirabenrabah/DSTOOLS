{
 "cells": [
  {
   "cell_type": "markdown",
   "id": "c19b683c-5444-456d-a9f6-fd0ecdcdf3d2",
   "metadata": {},
   "source": [
    "# Data Science Tools Exam"
   ]
  },
  {
   "cell_type": "markdown",
   "id": "12b3e5e3-5e99-47f0-a81f-43925c2a5bd3",
   "metadata": {},
   "source": [
    "In this notebook we will see a differents tools of Data Science languages and libraries and some examples of code programming using Python"
   ]
  },
  {
   "cell_type": "markdown",
   "id": "c4e321d7-12ce-4d2a-8ec2-3c0a3265446e",
   "metadata": {},
   "source": [
    "__Objectives :__\n",
    "List popular languages for Data Science"
   ]
  },
  {
   "cell_type": "markdown",
   "id": "099ae881-830b-461c-9397-157c602848fe",
   "metadata": {},
   "source": [
    "Some of the popular languages that Data Scientists use are:\n",
    "- Python\n",
    "- R\n",
    "- SQL\n",
    "- Scala\n",
    "- JAVA\n",
    "- Julia\n",
    "- C++\n"
   ]
  },
  {
   "cell_type": "markdown",
   "id": "b28fd552-3f8a-43e6-b51e-fbddc846c0b1",
   "metadata": {},
   "source": [
    "Some of the commonly used libraries used by Data Scientists include:\n",
    "- Numpy\n",
    "- Pandas\n",
    "- Keras\n",
    "- Tensorflow\n",
    "- Matplotlib\n",
    "- Seaborn\n",
    "- Scikit-learn"
   ]
  },
  {
   "cell_type": "markdown",
   "id": "9d34a30b-75b1-406c-9a3c-90343f503cef",
   "metadata": {},
   "source": [
    "### Data Science Tools \n",
    "| Data Management Tools | Data Integration and Transformation Tools | Data Visualization Tools | Code Asset Management Tools | Development Environments\n",
    "|-----------------------|-------------------------------------------|--------------------------|-----------------------------|---------------------|\n",
    "| Mysql | Apache Airflow | Cognos Analytics  | Git | Jupyter Notebooks |\n",
    "| PostgreSQL | Apache Kafka | Tableau |            | RStudio |\n",
    "| MongoDB |                 | Power BI |\n",
    "| Apache |\n",
    "\n"
   ]
  },
  {
   "cell_type": "markdown",
   "id": "06680080-dc9d-4995-b973-55de1c3e8a58",
   "metadata": {},
   "source": [
    "### Below are a few examples of evaluating arithmetic expressions in Python:"
   ]
  },
  {
   "cell_type": "code",
   "execution_count": 12,
   "id": "e9514514-d11a-4754-bf30-3f799ec13a25",
   "metadata": {
    "tags": []
   },
   "outputs": [
    {
     "data": {
      "text/plain": [
       "25"
      ]
     },
     "execution_count": 12,
     "metadata": {},
     "output_type": "execute_result"
    }
   ],
   "source": [
    "(2*8)+9"
   ]
  },
  {
   "cell_type": "code",
   "execution_count": 1,
   "id": "d00f6f43-614c-4e94-8355-51476dd74205",
   "metadata": {
    "tags": []
   },
   "outputs": [
    {
     "data": {
      "text/plain": [
       "22"
      ]
     },
     "execution_count": 1,
     "metadata": {},
     "output_type": "execute_result"
    }
   ],
   "source": [
    "(2*10)+2"
   ]
  },
  {
   "cell_type": "markdown",
   "id": "e567f5d3-8b52-4bfb-a36c-efc5a2a72a8a",
   "metadata": {},
   "source": [
    "### Convert Minutes to Hours"
   ]
  },
  {
   "cell_type": "code",
   "execution_count": 3,
   "id": "d2a1ad47-a85c-493f-a1ef-5aea4688359a",
   "metadata": {
    "tags": []
   },
   "outputs": [
    {
     "name": "stdin",
     "output_type": "stream",
     "text": [
      "Tape here time in minutes 200\n"
     ]
    },
    {
     "name": "stdout",
     "output_type": "stream",
     "text": [
      "Hours= 3\n",
      "Minutes= 20\n"
     ]
    }
   ],
   "source": [
    "min=int(input(\"Tape here time in minutes\"))\n",
    "h=min//60 #This will convert 200 minutes to hours by diving by 60\n",
    "m=min%60\n",
    "print(\"Hours=\",h)\n",
    "print(\"Minutes=\",m)"
   ]
  },
  {
   "cell_type": "markdown",
   "id": "ead785db-0212-4d33-b20a-2d4c84f4f538",
   "metadata": {},
   "source": [
    "## Author:\n",
    "Amira BENRABAH"
   ]
  }
 ],
 "metadata": {
  "kernelspec": {
   "display_name": "Python",
   "language": "python",
   "name": "conda-env-python-py"
  },
  "language_info": {
   "codemirror_mode": {
    "name": "ipython",
    "version": 3
   },
   "file_extension": ".py",
   "mimetype": "text/x-python",
   "name": "python",
   "nbconvert_exporter": "python",
   "pygments_lexer": "ipython3",
   "version": "3.7.12"
  }
 },
 "nbformat": 4,
 "nbformat_minor": 5
}
